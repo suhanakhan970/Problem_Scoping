{
 "cells": [
  {
   "cell_type": "markdown",
   "id": "5c29c84e-fea6-43f0-bc2e-a8fbb83dfd47",
   "metadata": {},
   "source": [
    "<div style=\"background-color: #add8e6; padding: 10px; height: 70px; border-radius: 15px;\">\n",
    "    <div style=\"font-family: 'Georgia', serif; font-size: 20px; padding: 10px; text-align: right; position: absolute; right: 20px;\">\n",
    "        Suhana <br>\n",
    "        <span style=\"font-family: 'Arial', sans-serif;font-size: 12px; color: #0a0a0a;\">AIML Trainee | AI/ML bootcamp</span> <!--- Suhana | CodroidHub Private Limited | AI/ML Consultant --->\n",
    "    </div>\n",
    "</div>"
   ]
  },
  {
   "cell_type": "markdown",
   "id": "1ae91941-cbae-4a89-8a0c-591d3278bdca",
   "metadata": {},
   "source": [
    "<div style=\"background-color: #002147; padding: 10px; text-align: center; color: white; font-size: 32px; font-family: 'Arial', sans-serif;\">\n",
    "    High Dropout Rate in First-Year College Students\n",
    "\n",
    "\n",
    " <br>\n",
    "    <h3 style=\"text-align: center; color: white; font-size: 15px; font-family: 'Arial', sans-serif;\">Problem Scoping 3\n",
    "</h>\n",
    "</div>"
   ]
  },
  {
   "cell_type": "markdown",
   "id": "28c1cedd-0776-4e43-8103-c66388b3d4e7",
   "metadata": {},
   "source": [
    "<div style=\"background-color: lightgreen; color: black; padding: 4px;\">\n",
    "<h1>What is the problem?</h1></div>"
   ]
  },
  {
   "cell_type": "markdown",
   "id": "37239a27-62cd-421e-933c-3692d766500f",
   "metadata": {},
   "source": [
    "<h3>The college has experienced a 15% increase in first-year student dropouts over the past academic year.</h3>"
   ]
  },
  {
   "cell_type": "markdown",
   "id": "7d6908da-974b-4853-8f74-68bdf52796c2",
   "metadata": {},
   "source": [
    "<h3><pPatients are experiencing delays of up to 2 weeks to get appointments with general physicians, leading to overcrowded emergency rooms and frustration.\n",
    "<p></h3>\n"
   ]
  },
  {
   "cell_type": "markdown",
   "id": "c4a4c0a9-5442-440e-928b-8009ada53a14",
   "metadata": {},
   "source": [
    "<div style=\"background-color: lightgreen; color: black; padding: 4px;\">\n",
    "<h1>2. Why is it a problem?</h1></div>"
   ]
  },
  {
   "cell_type": "markdown",
   "id": "923179be-1320-4f98-8c43-7865248873eb",
   "metadata": {},
   "source": [
    "<h3><p>High dropout rates impact institutional reputation, reduce funding opportunities, and reflect poorly on the quality of education and student support services.\n",
    "\n",
    "<p></h3>\n",
    "\n"
   ]
  },
  {
   "cell_type": "markdown",
   "id": "4c91ae68-6489-41e6-b048-9a3ca8098f7f",
   "metadata": {},
   "source": [
    "<div style=\"background-color: lightgreen; color: black; padding: 4px;\">\n",
    "<h1>3. Where is the problem occurring?</h1></div>"
   ]
  },
  {
   "cell_type": "markdown",
   "id": "c670577b-5750-41e0-a4f3-ca183d9041d2",
   "metadata": {},
   "source": [
    "<h3><p>Mostly in general education and foundational courses across arts and sciences streams. Many students are leaving during or after the first semester.\n",
    "\n",
    "<p></h3>"
   ]
  },
  {
   "cell_type": "markdown",
   "id": "00b77d39-561a-4480-a167-ad66d3403774",
   "metadata": {},
   "source": [
    "<div style=\"background-color: lightgreen; color: black; padding: 4px;\">\n",
    "<h1>4. Who is affected by the problem?</h1></div>\n"
   ]
  },
  {
   "cell_type": "markdown",
   "id": "9f03c2c8-0193-41f2-b527-ef0635e24d36",
   "metadata": {},
   "source": [
    "<h3><p>* Students: Lose time, money, and motivation, potentially delaying their academic goals<p>\n",
    "\n",
    "<p>* Faculty: Have to adapt teaching for fluctuating class sizes<p>\n",
    "\n",
    "<p>* Administration: Struggles with retention targets and budget planning<p>\n",
    "\n",
    "<p>* Parents: Experience financial and emotional stress<p></h3>\n",
    "\n",
    "\n"
   ]
  },
  {
   "cell_type": "markdown",
   "id": "630a50ba-2fdf-499f-ba07-8fcfb3f98dd8",
   "metadata": {},
   "source": [
    "<h1>✅ Proposed Solution</h1>\n"
   ]
  },
  {
   "cell_type": "markdown",
   "id": "ff03b227-9c98-4755-be53-0fe458f9450d",
   "metadata": {},
   "source": [
    "<h2>1.Investigate Root Causes:\n",
    "\n",
    "</h2>"
   ]
  },
  {
   "cell_type": "markdown",
   "id": "64b382c2-d2e0-43f8-8704-f12d792e9bd9",
   "metadata": {},
   "source": [
    "<h3><p>* Conduct exit interviews and anonymous surveys with dropouts and current students<p>\n",
    "\n",
    "<p>* Review academic records and support service usageions<p></h3>\n",
    "\n"
   ]
  },
  {
   "cell_type": "markdown",
   "id": "d48143b2-f1e9-4f16-804b-eb17f50be6f5",
   "metadata": {},
   "source": [
    "<h2>2.Improve Academic Support: </h2>"
   ]
  },
  {
   "cell_type": "markdown",
   "id": "0d18617e-ebdc-47fc-a4a7-65d884035802",
   "metadata": {},
   "source": [
    "<h3><p>* Set up mentorship programs linking seniors with freshmen<p>\n",
    "\n",
    "<p>* Provide additional tutoring and workshops for difficult subjects<p></h3>\n",
    "\n"
   ]
  },
  {
   "cell_type": "markdown",
   "id": "c0b9d031-163c-411c-b6ee-e8fbe2da0b66",
   "metadata": {},
   "source": [
    "<h2>3.Strengthen Student Engagement:\n",
    "\n",
    "</h2>\n",
    "\n"
   ]
  },
  {
   "cell_type": "markdown",
   "id": "33313603-357b-4df7-b92c-36468889e41d",
   "metadata": {},
   "source": [
    "<h3><p>* Organize orientation sessions, clubs, and campus events<p>\n",
    "\n",
    "<p>* Create first-year experience programs to build a sense of community<p></h3>"
   ]
  },
  {
   "cell_type": "markdown",
   "id": "523af4f9-f478-43bb-a0c2-21467d2b4cf1",
   "metadata": {},
   "source": [
    "<h2>4. Early Warning System:</h2>"
   ]
  },
  {
   "cell_type": "markdown",
   "id": "ca29d9af-4bcb-4187-83d9-20f8295a60c3",
   "metadata": {},
   "source": [
    "<h3><p>* Use analytics to identify students at risk (e.g., low attendance, poor grades)<p>\n",
    "\n",
    "<p>* Intervene early with counseling and academic advising<p></h3>\n",
    "\n",
    "\n"
   ]
  },
  {
   "cell_type": "markdown",
   "id": "fbb7ae13-ddba-49d7-b508-38bf61f42042",
   "metadata": {},
   "source": [
    "<h1>✅ Expected Outcome</h1>"
   ]
  },
  {
   "cell_type": "markdown",
   "id": "27d60685-41b0-4848-b122-64f44192aa9a",
   "metadata": {},
   "source": [
    "<h3><p>* Reduce first-year dropout rate by 30% within the next academic year<p>\n",
    "\n",
    "<p>* Increase student engagement and satisfaction<p>\n",
    "\n",
    "<p>* Improve academic performance and long-term retention<p></h3>\n",
    "\n"
   ]
  },
  {
   "cell_type": "markdown",
   "id": "43a7d487-3e64-4b3f-9398-3e39b2318fda",
   "metadata": {},
   "source": [
    "<div style=\"background-color: lightblue; color: white; padding: 10px; text-align: center;\">\n",
    "    <h1>_________________________________END________________________________\n",
    "<!--- Devashish Kumar | Tech Skills Trainer | CodroidHub Private Limited | AI/ML Consultant --->\n",
    "    </h1> </div>"
   ]
  },
  {
   "cell_type": "markdown",
   "id": "b38ed5c4-fc76-4e12-857d-32036debe68c",
   "metadata": {},
   "source": [
    "<div style=\"background-color: #002147; color: #fff; padding: 30px; text-align: center;\">\n",
    "    <h1>THANK YOU!\n",
    "        <!--- Devashish Kumar | Tech Skills Trainer | CodroidHub Private Limited | AI/ML Consultant --->\n",
    "</h1> </div>"
   ]
  },
  {
   "cell_type": "code",
   "execution_count": null,
   "id": "8b359cbf-5e63-4106-8ff2-fc44aaaa9212",
   "metadata": {},
   "outputs": [],
   "source": []
  }
 ],
 "metadata": {
  "kernelspec": {
   "display_name": "Python 3 (ipykernel)",
   "language": "python",
   "name": "python3"
  },
  "language_info": {
   "codemirror_mode": {
    "name": "ipython",
    "version": 3
   },
   "file_extension": ".py",
   "mimetype": "text/x-python",
   "name": "python",
   "nbconvert_exporter": "python",
   "pygments_lexer": "ipython3",
   "version": "3.12.4"
  }
 },
 "nbformat": 4,
 "nbformat_minor": 5
}
