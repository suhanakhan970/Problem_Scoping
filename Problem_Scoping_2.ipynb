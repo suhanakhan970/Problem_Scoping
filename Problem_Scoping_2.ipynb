{
 "cells": [
  {
   "cell_type": "markdown",
   "id": "57fba0ee-f51f-430e-bfef-f28cbd3d6a6f",
   "metadata": {},
   "source": [
    "<div style=\"background-color: #add8e6; padding: 10px; height: 70px; border-radius: 15px;\">\n",
    "    <div style=\"font-family: 'Georgia', serif; font-size: 20px; padding: 10px; text-align: right; position: absolute; right: 20px;\">\n",
    "        Suhana <br>\n",
    "        <span style=\"font-family: 'Arial', sans-serif;font-size: 12px; color: #0a0a0a;\">AIML Trainee | AI/ML bootcamp</span> <!--- Suhana | CodroidHub Private Limited | AI/ML Consultant --->\n",
    "    </div>\n",
    "</div>"
   ]
  },
  {
   "cell_type": "markdown",
   "id": "0901e6f6-d4c1-43d5-9390-7c2e3b00782e",
   "metadata": {},
   "source": [
    "<div style=\"background-color: #002147; padding: 10px; text-align: center; color: white; font-size: 32px; font-family: 'Arial', sans-serif;\">\n",
    "    Delayed Patient Appointment Scheduling in a Hospital\n",
    "\n",
    " <br>\n",
    "    <h3 style=\"text-align: center; color: white; font-size: 15px; font-family: 'Arial', sans-serif;\">Problem Scoping 2\n",
    "</h>\n",
    "</div>"
   ]
  },
  {
   "cell_type": "markdown",
   "id": "6a21966d-4435-4096-9a66-f079bc1e2264",
   "metadata": {},
   "source": [
    "<div style=\"background-color: lightgreen; color: black; padding: 4px;\">\n",
    "<h1>What is the problem?</h1></div>"
   ]
  },
  {
   "cell_type": "markdown",
   "id": "15793e7e-ca6a-4444-a88b-5c62b211e92c",
   "metadata": {},
   "source": [
    "<h3><pPatients are experiencing delays of up to 2 weeks to get appointments with general physicians, leading to overcrowded emergency room frustration<p></h3>\n"
   ]
  },
  {
   "cell_type": "markdown",
   "id": "88d7bf5b-430d-4fa6-9c30-cad73b6a5c47",
   "metadata": {},
   "source": [
    "<div style=\"background-color: lightgreen; color: black; padding: 4px;\">\n",
    "<h1>2. Why is it a problem?</h1></div>"
   ]
  },
  {
   "cell_type": "markdown",
   "id": "4e210a21-5165-4656-beea-e9999d3d6426",
   "metadata": {},
   "source": [
    "<h3>Delayed appointments can worsen patient health conditions, increase the burden on emergency services, and lead to lower patient satisfaction ratings. It also affects operational efficiency.</h3>\n",
    "\n"
   ]
  },
  {
   "cell_type": "markdown",
   "id": "05a2845a-a530-4bc5-8848-35215f544df6",
   "metadata": {},
   "source": [
    "<div style=\"background-color: lightgreen; color: black; padding: 4px;\">\n",
    "<h1>3. Where is the problem occurring?</h1></div>"
   ]
  },
  {
   "cell_type": "markdown",
   "id": "6d5e068a-b57e-4dda-b466-bf21dbaa9b92",
   "metadata": {},
   "source": [
    "<h3>Mainly in urban hospital branches where the patient volume is high and doctor availability is limited during peak hours</h3>"
   ]
  },
  {
   "cell_type": "markdown",
   "id": "72522a75-7c19-48c1-b094-32321753e120",
   "metadata": {},
   "source": [
    "<div style=\"background-color: lightgreen; color: black; padding: 4px;\">\n",
    "<h1>4. Who is affected by the problem?</h1></div>\n"
   ]
  },
  {
   "cell_type": "markdown",
   "id": "39844a9e-38eb-4647-a30c-a8de09edae24",
   "metadata": {},
   "source": [
    "<h3><p>* Patients: Suffer from long wait times and potentially delayed care<p>\n",
    "\n",
    "<p>* Doctors: Face overwhelmed schedules and burnout<p>\n",
    "\n",
    "<p>* Hospital Staff: Struggle with managing booking systems and patient complaints<p>\n",
    "\n",
    "<p>* Hospital Management: Faces declining service quality ratings<p></h3>\n",
    "\n"
   ]
  },
  {
   "cell_type": "markdown",
   "id": "a0f99bdd-7aae-4bcb-a7b8-a60aa6babcf9",
   "metadata": {},
   "source": [
    "<h1>✅ Proposed Solution</h1>"
   ]
  },
  {
   "cell_type": "markdown",
   "id": "8a5d8582-cf70-4cbe-a028-608471d6d6b6",
   "metadata": {},
   "source": [
    "<h2>1. Assess Current Scheduling System:</h2>\n",
    "\n",
    "\n"
   ]
  },
  {
   "cell_type": "markdown",
   "id": "0af58775-e653-49df-b7f4-e34dd12f3ce4",
   "metadata": {},
   "source": [
    "<h3><p>* Analyze patient flow and appointment data<p>\n",
    "\n",
    "<p>* Identify peak times and common scheduling bottlenecks<p></h3>"
   ]
  },
  {
   "cell_type": "markdown",
   "id": "e92395ad-0955-4544-a11f-4583335236d8",
   "metadata": {},
   "source": [
    "<h2>2. Introduce Online Self-Scheduling:</h2>\n",
    "\n"
   ]
  },
  {
   "cell_type": "markdown",
   "id": "57f6117f-4c8c-495a-aefa-3661e16a5682",
   "metadata": {},
   "source": [
    "<h3><p>* Allow patients to choose available time slots through a mobile app or website<p>\n",
    "\n",
    "<p>* Send automated reminders to reduce no-shows<p></h3>"
   ]
  },
  {
   "cell_type": "markdown",
   "id": "8ca5da78-e224-445e-bab2-e5bdd0eb81af",
   "metadata": {},
   "source": [
    "<h2>3. Optimize Staff Allocation:</h2>"
   ]
  },
  {
   "cell_type": "markdown",
   "id": "dafa1007-8657-4e08-b54f-6ab8fe391497",
   "metadata": {},
   "source": [
    "<h3><p>* Hire part-time physicians during peak hours<p>\n",
    "\n",
    "<p>* Use telemedicine for follow-up visits and non-critical consultations<p></h3>\n"
   ]
  },
  {
   "cell_type": "markdown",
   "id": "b49ef028-76bd-458d-bc91-33dc8e034f8a",
   "metadata": {},
   "source": [
    "<h2>4. Improve Triage Process:/h1>"
   ]
  },
  {
   "cell_type": "markdown",
   "id": "0968f646-e3c0-47c6-8e76-6679204cd2ea",
   "metadata": {},
   "source": [
    "<h3><p>* Implement a quick triage at the reception to direct non-urgent cases to alternate care pathways or clinics<p></h3>"
   ]
  },
  {
   "cell_type": "markdown",
   "id": "6d3270d2-baa9-4a65-9185-68a5087db0ac",
   "metadata": {},
   "source": [
    "<h1>✅ Expected Outcome</h1>"
   ]
  },
  {
   "cell_type": "markdown",
   "id": "e2ed152f-3bc7-4de1-b3e3-ffee3bcfb74c",
   "metadata": {},
   "source": [
    "<h3><p>* Reduce average waiting time for appointments by 50%<p>\n",
    "\n",
    "<p>* Decrease ER visits for non-emergency cases<p>\n",
    "\n",
    "<p>* Improve overall patient satisfaction scores and reduce administrative workload<p></h3>"
   ]
  },
  {
   "cell_type": "markdown",
   "id": "2b6c9311-e561-47c2-b495-15ace94b6901",
   "metadata": {},
   "source": [
    "<div style=\"background-color: lightblue; color: white; padding: 10px; text-align: center;\">\n",
    "    <h1>_________________________________END________________________________\n",
    "<!--- Devashish Kumar | Tech Skills Trainer | CodroidHub Private Limited | AI/ML Consultant --->\n",
    "    </h1> </div>"
   ]
  },
  {
   "cell_type": "markdown",
   "id": "1e56b434-860d-455c-b539-9424a1ef9774",
   "metadata": {},
   "source": [
    "<div style=\"background-color: #002147; color: #fff; padding: 30px; text-align: center;\">\n",
    "    <h1>THANK YOU!\n",
    "        <!--- Devashish Kumar | Tech Skills Trainer | CodroidHub Private Limited | AI/ML Consultant --->\n",
    "</h1> </div>"
   ]
  },
  {
   "cell_type": "code",
   "execution_count": null,
   "id": "998319b0-c93f-4394-aa16-c04a308a8d37",
   "metadata": {},
   "outputs": [],
   "source": []
  },
  {
   "cell_type": "code",
   "execution_count": null,
   "id": "6262b865-cbad-4967-becf-ccf264f5fa60",
   "metadata": {},
   "outputs": [],
   "source": []
  },
  {
   "cell_type": "code",
   "execution_count": null,
   "id": "4eae1343-a7a7-4dd4-9415-c878ec46ecbd",
   "metadata": {},
   "outputs": [],
   "source": []
  },
  {
   "cell_type": "code",
   "execution_count": null,
   "id": "cf8d1386-f86a-4db8-a934-41fd59b62e04",
   "metadata": {},
   "outputs": [],
   "source": []
  },
  {
   "cell_type": "code",
   "execution_count": null,
   "id": "0657884e-3c7f-4708-8f2e-ec8945213524",
   "metadata": {},
   "outputs": [],
   "source": []
  },
  {
   "cell_type": "code",
   "execution_count": null,
   "id": "fcf91a96-9063-4c1d-a175-47bcf3cdb61c",
   "metadata": {},
   "outputs": [],
   "source": []
  },
  {
   "cell_type": "code",
   "execution_count": null,
   "id": "05128768-6245-4546-afef-49dd1f1ac5a4",
   "metadata": {},
   "outputs": [],
   "source": []
  },
  {
   "cell_type": "code",
   "execution_count": null,
   "id": "b7133d56-7110-497d-a764-9755d7277f45",
   "metadata": {},
   "outputs": [],
   "source": []
  },
  {
   "cell_type": "markdown",
   "id": "ac4c823a-367a-44e3-9011-c1163f604264",
   "metadata": {},
   "source": [
    "<h3><pPatients are experiencing delays of up to 2 weeks to get appointments with general physicians, leading to overcrowded emergency room frustration<p></h3>\n"
   ]
  },
  {
   "cell_type": "markdown",
   "id": "9190f75f-908a-4c90-b6d0-c579ae51d435",
   "metadata": {},
   "source": [
    "<h3><pPatients are experiencing delays of up to 2 weeks to get appointments with general physicians, leading to overcrowded emergency room frustration<p></h3>\n"
   ]
  },
  {
   "cell_type": "code",
   "execution_count": null,
   "id": "f24f3b71-4ea0-4e94-8db2-8e72760c36c2",
   "metadata": {},
   "outputs": [],
   "source": []
  },
  {
   "cell_type": "code",
   "execution_count": null,
   "id": "c9dd1b70-8630-4eda-9ef6-b7699b8b4f24",
   "metadata": {},
   "outputs": [],
   "source": []
  },
  {
   "cell_type": "code",
   "execution_count": null,
   "id": "1d807bd8-61ea-4a8a-aa17-5454691244d9",
   "metadata": {},
   "outputs": [],
   "source": []
  }
 ],
 "metadata": {
  "kernelspec": {
   "display_name": "Python 3 (ipykernel)",
   "language": "python",
   "name": "python3"
  },
  "language_info": {
   "codemirror_mode": {
    "name": "ipython",
    "version": 3
   },
   "file_extension": ".py",
   "mimetype": "text/x-python",
   "name": "python",
   "nbconvert_exporter": "python",
   "pygments_lexer": "ipython3",
   "version": "3.12.4"
  }
 },
 "nbformat": 4,
 "nbformat_minor": 5
}
