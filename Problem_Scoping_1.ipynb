{
 "cells": [
  {
   "cell_type": "markdown",
   "id": "5c29c84e-fea6-43f0-bc2e-a8fbb83dfd47",
   "metadata": {},
   "source": [
    "<div style=\"background-color: #add8e6; padding: 10px; height: 70px; border-radius: 15px;\">\n",
    "    <div style=\"font-family: 'Georgia', serif; font-size: 20px; padding: 10px; text-align: right; position: absolute; right: 20px;\">\n",
    "        Suhana <br>\n",
    "        <span style=\"font-family: 'Arial', sans-serif;font-size: 12px; color: #0a0a0a;\">AIML Trainee | AI/ML bootcamp</span> <!--- Suhana | CodroidHub Private Limited | AI/ML Consultant --->\n",
    "    </div>\n",
    "</div>"
   ]
  },
  {
   "cell_type": "markdown",
   "id": "1ae91941-cbae-4a89-8a0c-591d3278bdca",
   "metadata": {},
   "source": [
    "<div style=\"background-color: #002147; padding: 10px; text-align: center; color: white; font-size: 32px; font-family: 'Arial', sans-serif;\">\n",
    "    Low Student Engagement in Online Learning Platform <br>\n",
    "    <h3 style=\"text-align: center; color: white; font-size: 15px; font-family: 'Arial', sans-serif;\">Problem Scoping 1\n",
    "</h>\n",
    "</div>"
   ]
  },
  {
   "cell_type": "markdown",
   "id": "28c1cedd-0776-4e43-8103-c66388b3d4e7",
   "metadata": {},
   "source": [
    "<div style=\"background-color: lightgreen; color: black; padding: 4px;\">\n",
    "<h1>What is the problem?</h1></div>"
   ]
  },
  {
   "cell_type": "markdown",
   "id": "e7f33c81-dfa3-4920-b117-6dd4144edc1a",
   "metadata": {},
   "source": [
    "<h3><p>Students are not actively participating in online classes an discussion on our e-leraning plateform. the completion rate for online course has been has dropped by 30% over the past semester.<p></h3>\n"
   ]
  },
  {
   "cell_type": "markdown",
   "id": "c4a4c0a9-5442-440e-928b-8009ada53a14",
   "metadata": {},
   "source": [
    "<div style=\"background-color: lightgreen; color: black; padding: 4px;\">\n",
    "<h1>2. Why is it a problem?</h1></div>"
   ]
  },
  {
   "cell_type": "markdown",
   "id": "923179be-1320-4f98-8c43-7865248873eb",
   "metadata": {},
   "source": [
    "<h3><p>Low engagement affects student learning outcomes and course effectiveness. It also impacts the platform’s reputation and could lead to reduced enrollment in future terms.<p></h3>\n",
    "\n"
   ]
  },
  {
   "cell_type": "markdown",
   "id": "4c91ae68-6489-41e6-b048-9a3ca8098f7f",
   "metadata": {},
   "source": [
    "<div style=\"background-color: lightgreen; color: black; padding: 4px;\">\n",
    "<h1>3. Where is the problem occurring?</h1></div>"
   ]
  },
  {
   "cell_type": "markdown",
   "id": "c670577b-5750-41e0-a4f3-ca183d9041d2",
   "metadata": {},
   "source": [
    "<h3><p>The issue is mostly seen in undergraduate courses, especially in first-year classes across humanities and business departments.<p></h3>"
   ]
  },
  {
   "cell_type": "markdown",
   "id": "00b77d39-561a-4480-a167-ad66d3403774",
   "metadata": {},
   "source": [
    "<div style=\"background-color: lightgreen; color: black; padding: 4px;\">\n",
    "<h1>4. Who is affected by the problem?</h1></div>\n"
   ]
  },
  {
   "cell_type": "markdown",
   "id": "9f03c2c8-0193-41f2-b527-ef0635e24d36",
   "metadata": {},
   "source": [
    "<h3><p>* Students: Missing out on key learning experiences<p>\n",
    "\n",
    "<p>* Instructors: Struggling to motivate and engage students<p>\n",
    "\n",
    "<p>* Academic Institution: Risking lower course ratings and retention rates<p></h3>\n",
    "\n"
   ]
  },
  {
   "cell_type": "markdown",
   "id": "630a50ba-2fdf-499f-ba07-8fcfb3f98dd8",
   "metadata": {},
   "source": [
    "<h1>✅ Proposed Solution</h1>\n"
   ]
  },
  {
   "cell_type": "markdown",
   "id": "ff03b227-9c98-4755-be53-0fe458f9450d",
   "metadata": {},
   "source": [
    "<h2>1. Identify Barriers:</h2>"
   ]
  },
  {
   "cell_type": "markdown",
   "id": "64b382c2-d2e0-43f8-8704-f12d792e9bd9",
   "metadata": {},
   "source": [
    "<h3><p>* Conduct surveys to understand why students are disengaged<p>\n",
    "\n",
    "<p>* Analyze login data, discussion activity, and assignment submissions<p></h3>\n",
    "\n"
   ]
  },
  {
   "cell_type": "markdown",
   "id": "d48143b2-f1e9-4f16-804b-eb17f50be6f5",
   "metadata": {},
   "source": [
    "<h2>2. Improve Course Design:</h2>"
   ]
  },
  {
   "cell_type": "markdown",
   "id": "0d18617e-ebdc-47fc-a4a7-65d884035802",
   "metadata": {},
   "source": [
    "<h3><p>* Break content into shorter, interactive modules<p>\n",
    "\n",
    "<p>* Add quizzes, polls, and group activities to encourage participation<p></h3>\n",
    "\n"
   ]
  },
  {
   "cell_type": "markdown",
   "id": "c0b9d031-163c-411c-b6ee-e8fbe2da0b66",
   "metadata": {},
   "source": [
    "<h2>3. Incentivize Participation:</h2>\n",
    "\n"
   ]
  },
  {
   "cell_type": "markdown",
   "id": "33313603-357b-4df7-b92c-36468889e41d",
   "metadata": {},
   "source": [
    "<h3><p>Offer badges or small rewards for completing modules<p>\n",
    "\n",
    "<p>Add participation to grading criteria<p></h3>\n",
    "\n"
   ]
  },
  {
   "cell_type": "markdown",
   "id": "523af4f9-f478-43bb-a0c2-21467d2b4cf1",
   "metadata": {},
   "source": [
    "<h2>4. Provide Support:</h2>"
   ]
  },
  {
   "cell_type": "markdown",
   "id": "ca29d9af-4bcb-4187-83d9-20f8295a60c3",
   "metadata": {},
   "source": [
    "<h3><p>* Train faculty in digital teaching methods<p>\n",
    "\n",
    "<p>* Assign teaching assistants to help moderate discussions and support students<p></h3>"
   ]
  },
  {
   "cell_type": "markdown",
   "id": "fbb7ae13-ddba-49d7-b508-38bf61f42042",
   "metadata": {},
   "source": [
    "<h1>✅ Expected Outcome</h1>"
   ]
  },
  {
   "cell_type": "markdown",
   "id": "27d60685-41b0-4848-b122-64f44192aa9a",
   "metadata": {},
   "source": [
    "<h3><p>* Increase in student engagement by 40% within the next semester<p>\n",
    "\n",
    "<p>* Higher course completion rates and better feedback from<p>\n",
    "\n",
    "<p>* Improved satisfaction for both students and faculty<p></h3>\n",
    "\n"
   ]
  },
  {
   "cell_type": "code",
   "execution_count": null,
   "id": "f3d15a2b-673e-4ba9-b358-3ccb12b32987",
   "metadata": {},
   "outputs": [],
   "source": []
  }
 ],
 "metadata": {
  "kernelspec": {
   "display_name": "Python 3 (ipykernel)",
   "language": "python",
   "name": "python3"
  },
  "language_info": {
   "codemirror_mode": {
    "name": "ipython",
    "version": 3
   },
   "file_extension": ".py",
   "mimetype": "text/x-python",
   "name": "python",
   "nbconvert_exporter": "python",
   "pygments_lexer": "ipython3",
   "version": "3.12.4"
  }
 },
 "nbformat": 4,
 "nbformat_minor": 5
}
